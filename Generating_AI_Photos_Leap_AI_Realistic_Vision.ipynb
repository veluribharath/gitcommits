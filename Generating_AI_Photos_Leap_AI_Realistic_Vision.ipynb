{
  "nbformat": 4,
  "nbformat_minor": 0,
  "metadata": {
    "colab": {
      "provenance": [],
      "include_colab_link": true
    },
    "kernelspec": {
      "name": "python3",
      "display_name": "Python 3"
    },
    "language_info": {
      "name": "python"
    }
  },
  "cells": [
    {
      "cell_type": "markdown",
      "metadata": {
        "id": "view-in-github",
        "colab_type": "text"
      },
      "source": [
        "<a href=\"https://colab.research.google.com/github/veluribharath/gitcommits/blob/master/Generating_AI_Photos_Leap_AI_Realistic_Vision.ipynb\" target=\"_parent\"><img src=\"https://colab.research.google.com/assets/colab-badge.svg\" alt=\"Open In Colab\"/></a>"
      ]
    },
    {
      "cell_type": "code",
      "execution_count": null,
      "metadata": {
        "id": "oh3n9k2M910E"
      },
      "outputs": [],
      "source": [
        "import requests\n",
        "import json\n",
        "import time\n",
        "\n",
        "# get api key from Leap AI https://www.tryleap.ai\n",
        "API_KEY = \"ADD_YOUR_API_KEY\"\n",
        "\n",
        "HEADERS = {\n",
        "    \"accept\": \"application/json\",\n",
        "    \"content-type\": \"application/json\",\n",
        "    \"authorization\": f\"Bearer {API_KEY}\"\n",
        "}"
      ]
    },
    {
      "cell_type": "code",
      "source": [
        "def generate_image(model_id, prompt):\n",
        "    url = f\"https://api.tryleap.ai/api/v1/images/models/{model_id}/inferences\"\n",
        "\n",
        "    payload = {\n",
        "        \"prompt\": prompt,\n",
        "        \"steps\": 50,\n",
        "        \"width\": 512,\n",
        "        \"height\": 512,\n",
        "        \"numberOfImages\": 4,\n",
        "        \"promptStrength\": 7,\n",
        "        \"enhancePrompt\": False,\n",
        "        \"restoreFaces\": True,\n",
        "        \"upscaleBy\": \"x1\"\n",
        "    }\n",
        "\n",
        "    response = requests.post(url, json=payload, headers=HEADERS)\n",
        "    data = json.loads(response.text)\n",
        "\n",
        "    print(data)\n",
        "    inference_id = data[\"id\"]\n",
        "    status = data[\"status\"]\n",
        "\n",
        "    print(f\"Inference ID: {inference_id}. Status: {status}\")\n",
        "\n",
        "    return inference_id, status\n",
        "\n",
        "\n",
        "def get_inference_job(model_id, inference_id):\n",
        "    url = f\"https://api.tryleap.ai/api/v1/images/models/{model_id}/inferences/{inference_id}\"\n",
        "\n",
        "    response = requests.get(url, headers=HEADERS)\n",
        "    data = json.loads(response.text)\n",
        "\n",
        "    inference_id = data[\"id\"]\n",
        "    state = data[\"state\"]\n",
        "    images = None\n",
        "\n",
        "    if len(data[\"images\"]):\n",
        "        images = data[\"images\"]\n",
        "\n",
        "    print(f\"Inference ID: {inference_id}. State: {state}\")\n",
        "\n",
        "    return inference_id, state, images"
      ],
      "metadata": {
        "id": "seoBu0hK_ijD"
      },
      "execution_count": null,
      "outputs": []
    },
    {
      "cell_type": "code",
      "source": [
        "# modelID refers to Realistic Vision model. We can now use it to generate images from.\n",
        "# For more models go here: https://docs.tryleap.ai/reference/pre-trained-models\n",
        "model_id = \"eab32df0-de26-4b83-a908-a83f3015e971\"\n",
        "inference_id, status = generate_image(\n",
        "    model_id,\n",
        "    prompt=\"close up of face of beautiful woman fashion model in white feather clothes, official balmain editorial, dramatic lighting highly detailed, with new york city in the background\"\n",
        ")\n",
        "while status != \"finished\":\n",
        "    time.sleep(10)\n",
        "    inference_id, status, images = get_inference_job(model_id, inference_id)\n",
        "\n",
        "for image in images:\n",
        "    print(\"Image ready:\", image[\"uri\"])"
      ],
      "metadata": {
        "id": "_pXpe_iiCkqq",
        "colab": {
          "base_uri": "https://localhost:8080/"
        },
        "outputId": "d87f8944-e2ba-426b-9ff8-f596dafc59ce"
      },
      "execution_count": null,
      "outputs": [
        {
          "output_type": "stream",
          "name": "stdout",
          "text": [
            "{'status': 'queued', 'id': '4ce71a4a-37f9-435e-b14e-0affc4ced3b2', 'prompt': 'close up of face of beautiful woman fashion model in white feather clothes, official balmain editorial, dramatic lighting highly detailed, with new york city in the background', 'negativePrompt': '', 'seed': 2989569205, 'width': 512, 'height': 512, 'numberOfImages': 4, 'steps': 50, 'createdAt': '2023-06-14T19:39:03.074Z', 'promptStrength': 7, 'images': [], 'modelId': 'eab32df0-de26-4b83-a908-a83f3015e971', 'upscalingOption': 'x1', 'sampler': 'euler_a', 'routedToQueue': 'inference'}\n",
            "Inference ID: 4ce71a4a-37f9-435e-b14e-0affc4ced3b2. Status: queued\n",
            "Inference ID: 4ce71a4a-37f9-435e-b14e-0affc4ced3b2. State: queued\n",
            "Inference ID: 4ce71a4a-37f9-435e-b14e-0affc4ced3b2. State: queued\n",
            "Inference ID: 4ce71a4a-37f9-435e-b14e-0affc4ced3b2. State: queued\n",
            "Inference ID: 4ce71a4a-37f9-435e-b14e-0affc4ced3b2. State: finished\n",
            "Image ready: https://static.tryleap.ai/image-gen-4ce71a4a-37f9-435e-b14e-0affc4ced3b2/generated_images/1.png\n",
            "Image ready: https://static.tryleap.ai/image-gen-4ce71a4a-37f9-435e-b14e-0affc4ced3b2/generated_images/0.png\n",
            "Image ready: https://static.tryleap.ai/image-gen-4ce71a4a-37f9-435e-b14e-0affc4ced3b2/generated_images/3.png\n",
            "Image ready: https://static.tryleap.ai/image-gen-4ce71a4a-37f9-435e-b14e-0affc4ced3b2/generated_images/2.png\n"
          ]
        }
      ]
    }
  ]
}